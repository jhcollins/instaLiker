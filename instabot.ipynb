{
 "cells": [
  {
   "cell_type": "code",
   "execution_count": 4,
   "metadata": {},
   "outputs": [],
   "source": [
    "from selenium import webdriver\n",
    "from selenium.webdriver.common.keys import Keys\n",
    "import time\n",
    "import random\n",
    "import matplotlib.pyplot as plt\n",
    "import numpy as np\n",
    "import datetime \n",
    "\n",
    "class auto_insta:\n",
    "    def __init__(self, username, password):\n",
    "        self.username = username\n",
    "        self.password = password\n",
    "        self.driver = webdriver.Firefox()\n",
    "\n",
    "    def closeBrowser(self):\n",
    "        self.driver.close()\n",
    "        \n",
    "    def login(self):\n",
    "        driver = self.driver\n",
    "        driver.get(\"https://www.instagram.com\")\n",
    "        time.sleep(2)\n",
    "        login_button = driver.find_element_by_xpath(\"//a[@href='/accounts/login/?source=auth_switcher']\")\n",
    "        login_button.click()\n",
    "        time.sleep(2)\n",
    "        user_name_elem = driver.find_element_by_xpath(\"//input[@name='username']\")\n",
    "        user_name_elem.clear()\n",
    "        user_name_elem.send_keys(self.username)\n",
    "        password_elem = driver.find_element_by_xpath(\"//input[@name='password']\")\n",
    "        password_elem.clear()\n",
    "        password_elem.send_keys(self.password)\n",
    "        password_elem.send_keys(Keys.RETURN)\n",
    "        time.sleep(2)\n",
    "        \n",
    "    def gather_recent_photos(self, hashtag):\n",
    "        driver=self.driver\n",
    "        driver.get(\"https://www.instagram.com/explore/tags/\"+hashtag+\"/\")\n",
    "        time.sleep(2)\n",
    "        hrefs = driver.find_elements_by_tag_name('a')\n",
    "        pic_hrefs = [elem.get_attribute('href') for elem in hrefs]\n",
    "        pic_hrefs = [href for href in pic_hrefs if '/p/' in href]\n",
    "        print(hashtag+ ' photos: '+str(len(pic_hrefs)))\n",
    "        return pic_hrefs\n",
    "    \n",
    "    def random_pause(self,hr,m,s,hrcntr,mcntr,scntr,hrvar,mvar,svar):\n",
    "        a=random.randint(hrcntr-hrvar,hrcntr+hrvar)+random.randint(hrcntr-hrvar,hrcntr+hrvar)*0.1+random.randint(hrcntr-hrvar,hrcntr+hrvar)*0.01\n",
    "        b=random.randint(mcntr-mvar,mcntr+mvar)+random.randint(mcntr-mvar,mcntr+mvar)*0.1+random.randint(mcntr-mvar,mcntr+mvar)*0.01\n",
    "        c=random.randint(scntr-svar,scntr+svar)+random.randint(scntr-svar,scntr+svar)*0.1+random.randint(scntr-svar,scntr+svar)*0.01\n",
    "    \n",
    "        hr=hr*3600+a*0.1*3600\n",
    "        m=m*60+b*0.1*60\n",
    "        s=s+c\n",
    "\n",
    "        time=hr+m+s\n",
    "        if time<0:\n",
    "            time=random.randint(30,60)+random.randint(-10,10)*0.1+random.randint(-10,10)*0.01\n",
    "        else: pass\n",
    "        return time\n",
    "    \n",
    "    def like_photos(self,photos):\n",
    "        driver=self.driver\n",
    "        count=0\n",
    "        for photo in photos:\n",
    "            print photo\n",
    "            driver.get(photo)\n",
    "            try:\n",
    "                driver.find_element_by_xpath('//*[@id=\"react-root\"]/section/main/div/div/article/div[2]/section[1]/span[1]/button/span').click()\n",
    "\n",
    "                tt=self.random_pause(0,0,5,0,0,0,0,0,1)\n",
    "                time.sleep(tt)\n",
    "                print \"sleep: \"+str(tt)\n",
    "                count+=1\n",
    "            except Exception as e:\n",
    "                print \"failed\"\n",
    "                tt=self.random_pause(0,0,5,0,0,0,0,0,1)\n",
    "                time.sleep(tt)\n",
    "                print \"sleep: \"+str(tt)\n",
    "        return count       \n",
    "            "
   ]
  },
  {
   "cell_type": "code",
   "execution_count": null,
   "metadata": {},
   "outputs": [
    {
     "name": "stdout",
     "output_type": "stream",
     "text": [
      "423\n",
      "dog photos: 33\n",
      "puppy photos: 33\n",
      "italiangreyhound photos: 33\n",
      "강아지 photos: 33\n",
      "개 photos: 33\n",
      "[u'https://www.instagram.com/p/ByLNHjHlpRA/', u'https://www.instagram.com/p/ByLNHMonVH_/', u'https://www.instagram.com/p/ByLNHHSgFKr/', u'https://www.instagram.com/p/ByLNG5YI_4h/', u'https://www.instagram.com/p/ByLNHlshz0q/', u'https://www.instagram.com/p/ByLNG3KIxBz/', u'https://www.instagram.com/p/ByLNHBHFEhZ/', u'https://www.instagram.com/p/ByLNHSRHgEa/']\n",
      "https://www.instagram.com/p/ByLNHjHlpRA/\n",
      "sleep: 6.09\n",
      "https://www.instagram.com/p/ByLNHMonVH_/\n",
      "sleep: 3.91\n",
      "https://www.instagram.com/p/ByLNHHSgFKr/\n",
      "sleep: 4.1\n",
      "https://www.instagram.com/p/ByLNG5YI_4h/\n",
      "sleep: 3.89\n",
      "https://www.instagram.com/p/ByLNHlshz0q/\n",
      "sleep: 5.99\n",
      "https://www.instagram.com/p/ByLNG3KIxBz/\n",
      "sleep: 5.09\n",
      "https://www.instagram.com/p/ByLNHBHFEhZ/\n",
      "sleep: 3.91\n",
      "https://www.instagram.com/p/ByLNHSRHgEa/\n",
      "sleep: 5.91\n",
      "number of likes: 8\n"
     ]
    },
    {
     "data": {
      "image/png": "[encoded data removed]",
      "text/plain": [
       "<Figure size 432x288 with 1 Axes>"
      ]
     },
     "metadata": {
      "needs_background": "light"
     },
     "output_type": "display_data"
    },
    {
     "name": "stdout",
     "output_type": "stream",
     "text": [
      "hour :12\n",
      "total likes: 8\n",
      "13\n",
      "long sleep count: 45\n",
      "dog photos: 33\n",
      "puppy photos: 33\n",
      "italiangreyhound photos: 33\n",
      "강아지 photos: 33\n",
      "개 photos: 33\n",
      "[u'https://www.instagram.com/p/ByLNQWpFU7V/', u'https://www.instagram.com/p/ByLNQpWhoug/']\n",
      "https://www.instagram.com/p/ByLNQWpFU7V/\n",
      "sleep: 5.01\n",
      "https://www.instagram.com/p/ByLNQpWhoug/\n",
      "sleep: 6.11\n",
      "number of likes: 2\n"
     ]
    },
    {
     "data": {
      "image/png": "[encoded data removed]",
      "text/plain": [
       "<Figure size 432x288 with 1 Axes>"
      ]
     },
     "metadata": {
      "needs_background": "light"
     },
     "output_type": "display_data"
    },
    {
     "name": "stdout",
     "output_type": "stream",
     "text": [
      "hour :12\n",
      "total likes: 10\n",
      "21\n",
      "long sleep count: 44\n",
      "dog photos: 33\n",
      "puppy photos: 33\n",
      "italiangreyhound photos: 33\n",
      "강아지 photos: 33\n",
      "개 photos: 33\n",
      "[u'https://www.instagram.com/p/ByLNScUA1pV/', u'https://www.instagram.com/p/ByLNHC9hhGM/', u'https://www.instagram.com/p/ByLNVFpFqZS/', u'https://www.instagram.com/p/ByLNVgBAnDC/', u'https://www.instagram.com/p/ByLNVaZA3Ck/']\n",
      "https://www.instagram.com/p/ByLNScUA1pV/\n",
      "sleep: 5.99\n",
      "https://www.instagram.com/p/ByLNHC9hhGM/\n",
      "sleep: 6.11\n",
      "https://www.instagram.com/p/ByLNVFpFqZS/\n",
      "sleep: 4.99\n",
      "https://www.instagram.com/p/ByLNVgBAnDC/\n",
      "sleep: 4.11\n",
      "https://www.instagram.com/p/ByLNVaZA3Ck/\n",
      "sleep: 5.09\n",
      "number of likes: 5\n"
     ]
    },
    {
     "data": {
      "image/png": "[encoded data removed]",
      "text/plain": [
       "<Figure size 432x288 with 1 Axes>"
      ]
     },
     "metadata": {
      "needs_background": "light"
     },
     "output_type": "display_data"
    },
    {
     "name": "stdout",
     "output_type": "stream",
     "text": [
      "hour :12\n",
      "total likes: 15\n",
      "29\n",
      "long sleep count: 43\n",
      "dog photos: 33\n",
      "puppy photos: 33\n",
      "italiangreyhound photos: 33\n",
      "강아지 photos: 33\n",
      "개 photos: 33\n",
      "[u'https://www.instagram.com/p/ByLNaRRoYiU/', u'https://www.instagram.com/p/ByLNcEVleDm/', u'https://www.instagram.com/p/ByLNCZYhQ7I/', u'https://www.instagram.com/p/ByLNa3QnGgW/']\n",
      "https://www.instagram.com/p/ByLNaRRoYiU/\n",
      "sleep: 6.11\n",
      "https://www.instagram.com/p/ByLNcEVleDm/\n",
      "sleep: 4.9\n",
      "https://www.instagram.com/p/ByLNCZYhQ7I/\n",
      "sleep: 4.11\n",
      "https://www.instagram.com/p/ByLNa3QnGgW/\n",
      "sleep: 4.1\n",
      "number of likes: 4\n"
     ]
    },
    {
     "data": {
      "image/png": "[encoded data removed]",
      "text/plain": [
       "<Figure size 432x288 with 1 Axes>"
      ]
     },
     "metadata": {
      "needs_background": "light"
     },
     "output_type": "display_data"
    },
    {
     "name": "stdout",
     "output_type": "stream",
     "text": [
      "hour :12\n",
      "total likes: 19\n",
      "7\n",
      "long sleep count: 42\n",
      "dog photos: 33\n",
      "puppy photos: 33\n",
      "italiangreyhound photos: 33\n",
      "강아지 photos: 33\n",
      "개 photos: 33\n",
      "[u'https://www.instagram.com/p/ByLNgNxAbhV/', u'https://www.instagram.com/p/ByLNgzqAqTG/', u'https://www.instagram.com/p/ByLNhoSHfUn/', u'https://www.instagram.com/p/ByLNg8inbQ_/']\n",
      "https://www.instagram.com/p/ByLNgNxAbhV/\n",
      "sleep: 3.89\n",
      "https://www.instagram.com/p/ByLNgzqAqTG/\n",
      "sleep: 5.99\n",
      "https://www.instagram.com/p/ByLNhoSHfUn/\n",
      "sleep: 4.01\n",
      "https://www.instagram.com/p/ByLNg8inbQ_/\n",
      "sleep: 4.09\n",
      "number of likes: 4\n"
     ]
    },
    {
     "data": {
      "image/png": "[encoded data removed]",
      "text/plain": [
       "<Figure size 432x288 with 1 Axes>"
      ]
     },
     "metadata": {
      "needs_background": "light"
     },
     "output_type": "display_data"
    },
    {
     "name": "stdout",
     "output_type": "stream",
     "text": [
      "hour :12\n",
      "total likes: 23\n",
      "32\n",
      "long sleep count: 41\n",
      "dog photos: 33\n",
      "puppy photos: 33\n",
      "italiangreyhound photos: 33\n",
      "강아지 photos: 33\n",
      "개 photos: 33\n",
      "[u'https://www.instagram.com/p/ByLNmacoTcz/', u'https://www.instagram.com/p/ByLNmrtow_c/', u'https://www.instagram.com/p/ByLNdgqhG1O/', u'https://www.instagram.com/p/ByLNnBAnR2x/', u'https://www.instagram.com/p/ByLNmbsBR2F/', u'https://www.instagram.com/p/ByLNmk5gfRv/', u'https://www.instagram.com/p/ByLNnKuh7PU/', u'https://www.instagram.com/p/ByLNnPpgilm/']\n",
      "https://www.instagram.com/p/ByLNmacoTcz/\n",
      "sleep: 4.11\n",
      "https://www.instagram.com/p/ByLNmrtow_c/\n",
      "sleep: 5.91\n",
      "https://www.instagram.com/p/ByLNdgqhG1O/\n",
      "sleep: 5.9\n",
      "https://www.instagram.com/p/ByLNnBAnR2x/\n",
      "sleep: 4.89\n",
      "https://www.instagram.com/p/ByLNmbsBR2F/\n",
      "sleep: 5.89\n",
      "https://www.instagram.com/p/ByLNmk5gfRv/\n",
      "sleep: 5.09\n",
      "https://www.instagram.com/p/ByLNnKuh7PU/\n",
      "sleep: 4.11\n",
      "https://www.instagram.com/p/ByLNnPpgilm/\n",
      "sleep: 4.9\n",
      "number of likes: 8\n"
     ]
    },
    {
     "data": {
      "image/png": "[encoded data removed]",
      "text/plain": [
       "<Figure size 432x288 with 1 Axes>"
      ]
     },
     "metadata": {
      "needs_background": "light"
     },
     "output_type": "display_data"
    },
    {
     "name": "stdout",
     "output_type": "stream",
     "text": [
      "hour :12\n",
      "total likes: 31\n",
      "7\n",
      "long sleep count: 40\n",
      "dog photos: 33\n",
      "puppy photos: 33\n",
      "italiangreyhound photos: 33\n",
      "강아지 photos: 33\n",
      "개 photos: 33\n",
      "[u'https://www.instagram.com/p/ByLNu2nA-Vq/', u'https://www.instagram.com/p/ByLNwYsHdTz/', u'https://www.instagram.com/p/ByLNvZ5A4h9/', u'https://www.instagram.com/p/ByLNvFHgvim/', u'https://www.instagram.com/p/ByLNv0NBp34/', u'https://www.instagram.com/p/ByLNwiMjQA9/']\n",
      "https://www.instagram.com/p/ByLNu2nA-Vq/\n",
      "sleep: 4.09\n",
      "https://www.instagram.com/p/ByLNwYsHdTz/\n",
      "sleep: 6.1\n",
      "https://www.instagram.com/p/ByLNvZ5A4h9/\n",
      "sleep: 4.9\n",
      "https://www.instagram.com/p/ByLNvFHgvim/\n",
      "sleep: 5.01\n",
      "https://www.instagram.com/p/ByLNv0NBp34/\n",
      "sleep: 5.1\n",
      "https://www.instagram.com/p/ByLNwiMjQA9/\n",
      "sleep: 4.01\n",
      "number of likes: 6\n"
     ]
    },
    {
     "data": {
      "image/png": "[encoded data removed]",
      "text/plain": [
       "<Figure size 432x288 with 1 Axes>"
      ]
     },
     "metadata": {
      "needs_background": "light"
     },
     "output_type": "display_data"
    },
    {
     "name": "stdout",
     "output_type": "stream",
     "text": [
      "hour :12\n",
      "total likes: 37\n",
      "15\n",
      "long sleep count: 39\n",
      "dog photos: 33\n",
      "puppy photos: 33\n",
      "italiangreyhound photos: 33\n",
      "강아지 photos: 33\n",
      "개 photos: 33\n",
      "[u'https://www.instagram.com/p/ByLN3fElGfB/', u'https://www.instagram.com/p/ByLN2lmF8U4/', u'https://www.instagram.com/p/ByLN29DggPj/', u'https://www.instagram.com/p/ByLN3Eeg6d6/', u'https://www.instagram.com/p/ByLN3MRBs-b/', u'https://www.instagram.com/p/ByLM_TiFstG/', u'https://www.instagram.com/p/ByLN2OAHnEh/', u'https://www.instagram.com/p/ByLN22LAotU/']\n",
      "https://www.instagram.com/p/ByLN3fElGfB/\n",
      "sleep: 5.1\n",
      "https://www.instagram.com/p/ByLN2lmF8U4/\n",
      "sleep: 4.89\n",
      "https://www.instagram.com/p/ByLN29DggPj/\n",
      "sleep: 3.99\n",
      "https://www.instagram.com/p/ByLN3Eeg6d6/\n",
      "sleep: 4.09\n",
      "https://www.instagram.com/p/ByLN3MRBs-b/\n",
      "sleep: 5.0\n",
      "https://www.instagram.com/p/ByLM_TiFstG/\n",
      "sleep: 5.11\n",
      "https://www.instagram.com/p/ByLN2OAHnEh/\n",
      "sleep: 3.91\n",
      "https://www.instagram.com/p/ByLN22LAotU/\n",
      "sleep: 6.0\n",
      "number of likes: 8\n"
     ]
    },
    {
     "data": {
      "image/png": "[encoded data removed]",
      "text/plain": [
       "<Figure size 432x288 with 1 Axes>"
      ]
     },
     "metadata": {
      "needs_background": "light"
     },
     "output_type": "display_data"
    },
    {
     "name": "stdout",
     "output_type": "stream",
     "text": [
      "hour :12\n",
      "total likes: 45\n",
      "19\n",
      "long sleep count: 38\n",
      "dog photos: 33\n",
      "puppy photos: 33\n",
      "italiangreyhound photos: 33\n",
      "강아지 photos: 33\n",
      "개 photos: 33\n",
      "[u'https://www.instagram.com/p/ByLN_J9hb-a/', u'https://www.instagram.com/p/ByLOArKlRp7/', u'https://www.instagram.com/p/ByLN_vaitqA/', u'https://www.instagram.com/p/ByLN_TlCgyt/', u'https://www.instagram.com/p/ByLN-7Goe5k/', u'https://www.instagram.com/p/ByLOAZEnig9/', u'https://www.instagram.com/p/ByLN-a4iWKT/', u'https://www.instagram.com/p/ByLOAmaFkJi/']\n",
      "https://www.instagram.com/p/ByLN_J9hb-a/\n",
      "sleep: 5.9\n",
      "https://www.instagram.com/p/ByLOArKlRp7/\n",
      "sleep: 5.0\n",
      "https://www.instagram.com/p/ByLN_vaitqA/\n",
      "sleep: 6.0\n",
      "https://www.instagram.com/p/ByLN_TlCgyt/\n",
      "sleep: 5.09\n",
      "https://www.instagram.com/p/ByLN-7Goe5k/\n",
      "sleep: 5.91\n",
      "https://www.instagram.com/p/ByLOAZEnig9/\n",
      "sleep: 6.11\n",
      "https://www.instagram.com/p/ByLN-a4iWKT/\n",
      "sleep: 4.89\n",
      "https://www.instagram.com/p/ByLOAmaFkJi/\n",
      "sleep: 4.9\n",
      "number of likes: 8\n"
     ]
    },
    {
     "data": {
      "image/png": "[encoded data removed]",
      "text/plain": [
       "<Figure size 432x288 with 1 Axes>"
      ]
     },
     "metadata": {
      "needs_background": "light"
     },
     "output_type": "display_data"
    },
    {
     "name": "stdout",
     "output_type": "stream",
     "text": [
      "hour :12\n",
      "total likes: 53\n",
      "23\n",
      "long sleep count: 37\n",
      "dog photos: 33\n",
      "puppy photos: 33\n",
      "italiangreyhound photos: 33\n",
      "강아지 photos: 33\n",
      "개 photos: 33\n",
      "[u'https://www.instagram.com/p/ByLOJSThYkM/', u'https://www.instagram.com/p/ByLOJ20Hjyd/']\n",
      "https://www.instagram.com/p/ByLOJSThYkM/\n",
      "sleep: 3.9\n",
      "https://www.instagram.com/p/ByLOJ20Hjyd/\n",
      "sleep: 4.09\n",
      "number of likes: 2\n"
     ]
    },
    {
     "data": {
      "image/png": "[encoded data removed]",
      "text/plain": [
       "<Figure size 432x288 with 1 Axes>"
      ]
     },
     "metadata": {
      "needs_background": "light"
     },
     "output_type": "display_data"
    },
    {
     "name": "stdout",
     "output_type": "stream",
     "text": [
      "hour :12\n",
      "total likes: 55\n",
      "27\n",
      "long sleep count: 36\n",
      "dog photos: 33\n",
      "puppy photos: 33\n",
      "italiangreyhound photos: 33\n",
      "강아지 photos: 33\n",
      "개 photos: 33\n",
      "[u'https://www.instagram.com/p/ByLOM4Ogdhc/', u'https://www.instagram.com/p/ByLONQNoSMl/', u'https://www.instagram.com/p/ByLONtEgnDO/', u'https://www.instagram.com/p/ByLOMVMhAaq/', u'https://www.instagram.com/p/ByLONMBHlP2/', u'https://www.instagram.com/p/ByLOMxlCDvE/', u'https://www.instagram.com/p/ByLOMk9l75p/', u'https://www.instagram.com/p/ByLONHlhG-Y/']\n",
      "https://www.instagram.com/p/ByLOM4Ogdhc/\n",
      "sleep: 3.9\n",
      "https://www.instagram.com/p/ByLONQNoSMl/\n",
      "sleep: 5.01\n",
      "https://www.instagram.com/p/ByLONtEgnDO/\n",
      "sleep: 6.01\n",
      "https://www.instagram.com/p/ByLOMVMhAaq/\n",
      "sleep: 4.0\n",
      "https://www.instagram.com/p/ByLONMBHlP2/\n",
      "sleep: 4.99\n",
      "https://www.instagram.com/p/ByLOMxlCDvE/\n",
      "sleep: 4.89\n",
      "https://www.instagram.com/p/ByLOMk9l75p/\n",
      "sleep: 3.99\n",
      "https://www.instagram.com/p/ByLONHlhG-Y/\n"
     ]
    }
   ],
   "source": [
    "test=auto_insta(\"douglas_and_carlyle\",\"Hayderl\")\n",
    "test.login()\n",
    "on = 1\n",
    "total=random.randint(400,500)\n",
    "print total\n",
    "count=0\n",
    "x=[]\n",
    "y=[]\n",
    "#onn=float(str(datetime.now()).split()[1][0:-13])\n",
    "lscount=35\n",
    "ton=8\n",
    "toff=24\n",
    "while on ==1:\n",
    "    \n",
    "    onn=datetime.datetime.now().hour\n",
    "    if (onn >=ton and onn< toff):\n",
    "        pass\n",
    "    else:\n",
    "        time.sleep(test.random_pause(0,5,5,0,0,0,0,1,1))\n",
    "\n",
    "    while (onn >= ton and onn < toff):\n",
    "        try: \n",
    "            hrefs1=test.gather_recent_photos(\"dog\")[9:-1]\n",
    "            hrefs2=test.gather_recent_photos(\"puppy\")[9:-1]\n",
    "            #hrefs3=test.gather_recent_photos(\"cute\")[9:-1]\n",
    "            #hrefs4=test.gather_recent_photos(\"puppies\")[9:-1]\n",
    "            #hrefs5=test.gather_recent_photos(\"dachshund\")[9:-1]\n",
    "            hrefs6=test.gather_recent_photos(\"italiangreyhound\")[9:-1]\n",
    "            hrefs7=test.gather_recent_photos(\"강아지\")[9:-1]\n",
    "            hrefs8=test.gather_recent_photos(\"개\")[9:-1]\n",
    "            #개 dog\n",
    "            #강아지 puppy\n",
    "    \n",
    "            try:\n",
    "                likes=list(set(hrefs1)&set(hrefs2))\n",
    "                #likes=list(set(hrefs7)&set(hrefs8))\n",
    "                #likes=list(hrefs6)\n",
    "                print likes\n",
    "                number=test.like_photos(likes)\n",
    "            except:\n",
    "                time.sleep(test.random_pause(0,0,5,0,0,0,0,0,1))\n",
    "                try:\n",
    "                    likes=hrefs5\n",
    "                    print likes\n",
    "                    number=test.like_photos(likes)\n",
    "                except:\n",
    "                    test.closeBrowser()\n",
    "                    on==0\n",
    "            print \"number of likes: \"+ str(number)\n",
    "            count+=number\n",
    "            x.append(time.clock())\n",
    "            y.append(count)\n",
    "\n",
    "            plt.scatter(x,y)\n",
    "            #plt.hold(True)\n",
    "            plt.show()\n",
    "\n",
    "            if count>total:\n",
    "                on=0\n",
    "                break\n",
    "            else:\n",
    "                onn=datetime.datetime.now().hour\n",
    "                print \"hour :\" + str(onn)\n",
    "                print \"total likes: \" + str(count)\n",
    "                lsc=10+lscount\n",
    "                tl=random.randint(1,lsc)\n",
    "                print tl\n",
    "                if tl<2:\n",
    "                    print datetime.datetime.now()\n",
    "                    ls=test.random_pause(1,0,5,0,0,0,1,0,1)\n",
    "                    print \"long sleep...\"+str(ls)\n",
    "                    time.sleep(ls)\n",
    "                    lscount+=10\n",
    "                else:\n",
    "                    lscount-=1\n",
    "                print \"long sleep count: \" + str(lsc)\n",
    "        except:\n",
    "            Retry=test.random_pause(0,0,5,0,0,0,0,10,1)\n",
    "            print \"retrying in... \" + str(Retry)\n",
    "            time.sleep(Retry)\n",
    "            \n",
    "            pass"
   ]
  },
  {
   "cell_type": "code",
   "execution_count": null,
   "metadata": {},
   "outputs": [],
   "source": []
  },
  {
   "cell_type": "code",
   "execution_count": null,
   "metadata": {},
   "outputs": [],
   "source": []
  },
  {
   "cell_type": "code",
   "execution_count": null,
   "metadata": {},
   "outputs": [],
   "source": []
  },
  {
   "cell_type": "code",
   "execution_count": null,
   "metadata": {},
   "outputs": [],
   "source": []
  },
  {
   "cell_type": "code",
   "execution_count": null,
   "metadata": {},
   "outputs": [],
   "source": []
  },
  {
   "cell_type": "code",
   "execution_count": null,
   "metadata": {},
   "outputs": [],
   "source": []
  },
  {
   "cell_type": "code",
   "execution_count": null,
   "metadata": {},
   "outputs": [],
   "source": []
  },
  {
   "cell_type": "code",
   "execution_count": null,
   "metadata": {},
   "outputs": [],
   "source": []
  },
  {
   "cell_type": "code",
   "execution_count": null,
   "metadata": {},
   "outputs": [],
   "source": []
  },
  {
   "cell_type": "code",
   "execution_count": null,
   "metadata": {},
   "outputs": [],
   "source": []
  },
  {
   "cell_type": "code",
   "execution_count": null,
   "metadata": {},
   "outputs": [],
   "source": []
  }
 ],
 "metadata": {
  "kernelspec": {
   "display_name": "Python 2",
   "language": "python",
   "name": "python2"
  },
  "language_info": {
   "codemirror_mode": {
    "name": "ipython",
    "version": 2
   },
   "file_extension": ".py",
   "mimetype": "text/x-python",
   "name": "python",
   "nbconvert_exporter": "python",
   "pygments_lexer": "ipython2",
   "version": "2.7.16"
  }
 },
 "nbformat": 4,
 "nbformat_minor": 2
}
